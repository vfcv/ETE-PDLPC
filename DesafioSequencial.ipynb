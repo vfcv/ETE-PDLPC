{
  "nbformat": 4,
  "nbformat_minor": 0,
  "metadata": {
    "colab": {
      "name": "DesafioSequencial.ipynb",
      "provenance": [],
      "collapsed_sections": [],
      "authorship_tag": "ABX9TyMwySS8bB908qgEbXILKQdG",
      "include_colab_link": true
    },
    "kernelspec": {
      "name": "python3",
      "display_name": "Python 3"
    },
    "language_info": {
      "name": "python"
    }
  },
  "cells": [
    {
      "cell_type": "markdown",
      "metadata": {
        "id": "view-in-github",
        "colab_type": "text"
      },
      "source": [
        "<a href=\"https://colab.research.google.com/github/vfcv/ETE-PDLPC/blob/main/DesafioSequencial.ipynb\" target=\"_parent\"><img src=\"https://colab.research.google.com/assets/colab-badge.svg\" alt=\"Open In Colab\"/></a>"
      ]
    },
    {
      "cell_type": "code",
      "execution_count": null,
      "metadata": {
        "colab": {
          "base_uri": "https://localhost:8080/"
        },
        "id": "fnClW08Mze6s",
        "outputId": "7bff7579-c946-4b41-a16f-320de2a2d082"
      },
      "outputs": [
        {
          "output_type": "stream",
          "name": "stdout",
          "text": [
            "Alô ETE PORTO DIGITAL!!\n"
          ]
        }
      ],
      "source": [
        "# ETE PORTO digital\n",
        "# Questão 1\n",
        "\n",
        "print (\"Alô ETE PORTO DIGITAL!!\")"
      ]
    },
    {
      "cell_type": "code",
      "source": [
        "# Questão 2\n",
        "\n",
        "num=int(input(\"Digite um numero: \"))\n",
        "print(f\"O número informado foi {num}\")"
      ],
      "metadata": {
        "colab": {
          "base_uri": "https://localhost:8080/"
        },
        "id": "7ojCJNlM0upc",
        "outputId": "ca3be116-afec-41c9-d530-ee8a6f3b7beb"
      },
      "execution_count": null,
      "outputs": [
        {
          "output_type": "stream",
          "name": "stdout",
          "text": [
            "Digite um numero: 34\n",
            "O número informado foi 34\n"
          ]
        }
      ]
    },
    {
      "cell_type": "code",
      "source": [
        "# Questão 3\n",
        "\n",
        "num1=int(input(\"Digite um numero: \"))\n",
        "num2=int(input(\"Digite outro numero: \"))\n",
        "soma=num1+num2\n",
        "print(f\"A soma dos números informados foi {soma}\")"
      ],
      "metadata": {
        "colab": {
          "base_uri": "https://localhost:8080/"
        },
        "id": "Xj2Xohmc2Sh4",
        "outputId": "40949e50-b5ee-423e-90d7-5570da061e0d"
      },
      "execution_count": null,
      "outputs": [
        {
          "output_type": "stream",
          "name": "stdout",
          "text": [
            "Digite um numero: 23\n",
            "Digite outro numero: 7\n",
            "A soma dos números informados foi 30\n"
          ]
        }
      ]
    },
    {
      "cell_type": "code",
      "source": [
        "# Questão 4\n",
        "\n",
        "n1=float(input(\"Digite a 1a nota: \"))\n",
        "n2=float(input(\"Digite a 2a nota: \"))\n",
        "n3=float(input(\"Digite a 3a nota: \"))\n",
        "n4=float(input(\"Digite a 4a nota: \"))\n",
        "media=(n1+n2+n3+n4)/4\n",
        "print(f\"A média das notas informadas é igual a {media}\")"
      ],
      "metadata": {
        "colab": {
          "base_uri": "https://localhost:8080/"
        },
        "id": "y8uUoIp723gf",
        "outputId": "20cdd6b3-951e-41c2-ad7d-7fff491ce2b6"
      },
      "execution_count": null,
      "outputs": [
        {
          "output_type": "stream",
          "name": "stdout",
          "text": [
            "Digite a 1a nota: 2.5\n",
            "Digite a 2a nota: 8\n",
            "Digite a 3a nota: 9.5\n",
            "Digite a 4a nota: 10\n",
            "A média das notas informadas é igual a 7.5\n"
          ]
        }
      ]
    },
    {
      "cell_type": "code",
      "source": [
        "# Questão 5\n",
        "\n",
        "num=float(input(\"Digite uma medida em metros: \"))\n",
        "cm=num*100\n",
        "print(f\"O valor informado em centímetros é igual a {cm}\")"
      ],
      "metadata": {
        "colab": {
          "base_uri": "https://localhost:8080/"
        },
        "id": "fZKA9RB74HvE",
        "outputId": "6bb13ac8-89f8-4491-ef01-0b27185e057a"
      },
      "execution_count": null,
      "outputs": [
        {
          "output_type": "stream",
          "name": "stdout",
          "text": [
            "Digite uma medida em metros: 3\n",
            "O valor informado em centímetros é igual a 300.0\n"
          ]
        }
      ]
    },
    {
      "cell_type": "code",
      "source": [
        "# Questão 6\n",
        "\n",
        "raio=float(input(\"Digite um valor para o raio: \"))\n",
        "area=3.14*(raio**2)\n",
        "print(f\"O valor da área da circunferencia é igual a {area}\")"
      ],
      "metadata": {
        "colab": {
          "base_uri": "https://localhost:8080/"
        },
        "id": "ozBzUAe347I_",
        "outputId": "2b945bd7-fc76-489f-c9cf-3dc0f3491faa"
      },
      "execution_count": null,
      "outputs": [
        {
          "output_type": "stream",
          "name": "stdout",
          "text": [
            "Digite um valor para o raio: 3\n",
            "O valor da área da circunferencia é igual a 28.26\n"
          ]
        }
      ]
    },
    {
      "cell_type": "code",
      "source": [
        "# Questão 7\n",
        "\n",
        "lado=float(input(\"Digite o lado do quadrado: \"))\n",
        "area=(lado**2)*2\n",
        "print(f\"O valor da área é igual a {area}\")"
      ],
      "metadata": {
        "colab": {
          "base_uri": "https://localhost:8080/"
        },
        "id": "pQKRLL6k6Jmp",
        "outputId": "f819e9ef-ad65-49c7-9595-d6abb0c9b0cf"
      },
      "execution_count": null,
      "outputs": [
        {
          "output_type": "stream",
          "name": "stdout",
          "text": [
            "Digite o lado do quadrado: 3\n",
            "O valor da área é igual a 18.0\n"
          ]
        }
      ]
    },
    {
      "cell_type": "code",
      "source": [
        "# Questão 8\n",
        "\n",
        "salario=float(input(\"Digite o valor da hora aula: \"))\n",
        "horas=float(input(\"Digite a quantidade de horas trabalhadas: \"))\n",
        "salario=salario*horas\n",
        "print(f\"Seu salario é igual a {salario}\")"
      ],
      "metadata": {
        "colab": {
          "base_uri": "https://localhost:8080/"
        },
        "id": "wLN6ZLb160ed",
        "outputId": "e0936091-8a8c-4689-eff0-f399a9af194b"
      },
      "execution_count": null,
      "outputs": [
        {
          "output_type": "stream",
          "name": "stdout",
          "text": [
            "Digite o valor da hora aula: 31\n",
            "Digite a quantidade de horas trabalhadas: 3\n",
            "Seu salario é igual a 93.0\n"
          ]
        }
      ]
    },
    {
      "cell_type": "code",
      "source": [
        "# Questão 9\n",
        "\n",
        "temp=float(input(\"Digite a temperatura em Farenheit: \"))\n",
        "celsius=5*((temp-32)/9)\n",
        "print(f\"A temperatura em Celsius é igual a {celsius} graus\")"
      ],
      "metadata": {
        "colab": {
          "base_uri": "https://localhost:8080/"
        },
        "id": "VRb8NVkM78hj",
        "outputId": "29752bde-4a05-4c6b-ba5a-b66e0b92761f"
      },
      "execution_count": null,
      "outputs": [
        {
          "output_type": "stream",
          "name": "stdout",
          "text": [
            "Digite a temperatura em Farenheit: 200\n",
            "A temperatura em Celsius é igual a 93.33333333333334 graus\n"
          ]
        }
      ]
    },
    {
      "cell_type": "code",
      "source": [
        "# Questão 10\n",
        "\n",
        "temp=float(input(\"Digite a temperatura em Celsius: \"))\n",
        "f=(9*temp/5)+32\n",
        "print(f\"A temperatura em Farenheit é igual a {f} graus\")"
      ],
      "metadata": {
        "colab": {
          "base_uri": "https://localhost:8080/"
        },
        "id": "CkjDohcR_DzU",
        "outputId": "28a5fa91-c86c-4060-b07f-264046cdac12"
      },
      "execution_count": null,
      "outputs": [
        {
          "output_type": "stream",
          "name": "stdout",
          "text": [
            "Digite a temperatura em Celsius: 93.33\n",
            "A temperatura em Farenheit é igual a 199.994 graus\n"
          ]
        }
      ]
    },
    {
      "cell_type": "code",
      "source": [
        "# Questão 11\n",
        "\n",
        "n1=int(input(\"Digite um inteiro: \"))\n",
        "n2=int(input(\"Digite outro inteiro: \"))\n",
        "n3=float(input(\"Digite um numero real: \"))\n",
        "\n",
        "prod=2*n1*n2/2\n",
        "print(f\"A primeira operação é igual a {prod}\")\n",
        "soma=3*n1+n3\n",
        "print(f\"A segunda operação é igual a {soma}\")\n",
        "exp=n3**3\n",
        "print(f\"A terceira operação é igual a {exp}\")"
      ],
      "metadata": {
        "colab": {
          "base_uri": "https://localhost:8080/"
        },
        "id": "oaXRcPWBAEQI",
        "outputId": "c1fc7117-9730-4b8c-f7fd-92dad3423a01"
      },
      "execution_count": null,
      "outputs": [
        {
          "output_type": "stream",
          "name": "stdout",
          "text": [
            "Digite um inteiro: 3\n",
            "Digite outro inteiro: 3\n",
            "Digite um numero real: 3\n",
            "A primeira operação é igual a 9.0\n",
            "A segunda operação é igual a 12.0\n",
            "A terceira operação é igual a 27.0\n"
          ]
        }
      ]
    },
    {
      "cell_type": "code",
      "source": [
        "# Questão 12\n",
        "\n",
        "alt=float(input(\"Digite uma altura: \"))\n",
        "peso=72.7*alt-58\n",
        "print(f\"Seu peso ideal é igual a {peso} kilos\")"
      ],
      "metadata": {
        "colab": {
          "base_uri": "https://localhost:8080/"
        },
        "id": "vCD1iJaSB549",
        "outputId": "d048f94e-7043-4c36-95da-03355bc0531a"
      },
      "execution_count": null,
      "outputs": [
        {
          "output_type": "stream",
          "name": "stdout",
          "text": [
            "Digite uma altura: 1.69\n",
            "Seu peso ideal é igual a 64.863 kilos\n"
          ]
        }
      ]
    },
    {
      "cell_type": "code",
      "source": [
        "# Questão 13\n",
        "\n",
        "alt=float(input(\"Digite uma altura: \"))\n",
        "sexo=str(input(\"Digite m para masculino ou feminino para feminino: \")).lower()\n",
        "\n",
        "if sexo== 'm':\n",
        " peso=72.7*alt-58 \n",
        "else:\n",
        " peso=62.1*alt-44.7\n",
        "print(f\"Seu peso ideal é igual a {peso} kg\")"
      ],
      "metadata": {
        "colab": {
          "base_uri": "https://localhost:8080/"
        },
        "id": "Ndzok1GJC9Dc",
        "outputId": "f8b03562-e700-42c4-be2c-1d49bf0f4127"
      },
      "execution_count": null,
      "outputs": [
        {
          "output_type": "stream",
          "name": "stdout",
          "text": [
            "Digite uma altura: 1.70\n",
            "Digite m para masculino ou feminino para feminino: M\n",
            "Seu peso ideal é igual a 65.59 kilos\n"
          ]
        }
      ]
    },
    {
      "cell_type": "code",
      "source": [
        "# Questão 14\n",
        "\n",
        "peso=float(input(\"Digite a quantidade pescada em kg: \"))\n",
        "\n",
        "if peso>50:\n",
        " excesso=peso-50 \n",
        " multa=excesso*4\n",
        "else:\n",
        " excesso=0.00 \n",
        " multa=0.00\n",
        "print(f\"Voce pescou {excesso}kg a mais que o permitido. \\nPortanto terá terá pagar multa de {multa} reais\")"
      ],
      "metadata": {
        "colab": {
          "base_uri": "https://localhost:8080/"
        },
        "id": "daYNt9HxF8Yl",
        "outputId": "380f9a62-fe36-4fbf-903b-a1f361847946"
      },
      "execution_count": null,
      "outputs": [
        {
          "output_type": "stream",
          "name": "stdout",
          "text": [
            "Digite a quantidade pescada em kg: 57\n",
            "Voce pescou 7.0kg a mais que o permitido. \n",
            "Portanto terá terá pagar multa de 28.0 reais\n"
          ]
        }
      ]
    },
    {
      "cell_type": "code",
      "source": [
        "# Questão 15\n",
        "\n",
        "tam=float(input(\"Digite o tamanho do arquivo para download em MB: \"))\n",
        "velo=float(input(\"Digite a velocidade da internet em Mbps: \"))\n",
        "tempo=tam/velo\n",
        "print(f\"Voce necessita de {tempo} segundos para baixar seu arquivo.\")"
      ],
      "metadata": {
        "colab": {
          "base_uri": "https://localhost:8080/"
        },
        "id": "NP7z5o-UHmr5",
        "outputId": "59eef5ce-24ba-4627-8f7c-5ab9c3073ba5"
      },
      "execution_count": null,
      "outputs": [
        {
          "output_type": "stream",
          "name": "stdout",
          "text": [
            "Digite o tamanho do arquivo para download em MB: 1000\n",
            "Digite a velocidade da internet em Mbps: 200\n",
            "Voce necessita de 5.0 segundos para baixar seu arquivo.\n"
          ]
        }
      ]
    }
  ]
}