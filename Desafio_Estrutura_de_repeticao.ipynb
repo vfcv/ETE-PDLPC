{
  "nbformat": 4,
  "nbformat_minor": 0,
  "metadata": {
    "colab": {
      "name": "Desafio-Estrutura_de_repeticao.ipynb",
      "provenance": [],
      "collapsed_sections": [],
      "authorship_tag": "ABX9TyOxO6f1kpxfmA+ncx+qVhEJ",
      "include_colab_link": true
    },
    "kernelspec": {
      "name": "python3",
      "display_name": "Python 3"
    },
    "language_info": {
      "name": "python"
    }
  },
  "cells": [
    {
      "cell_type": "markdown",
      "metadata": {
        "id": "view-in-github",
        "colab_type": "text"
      },
      "source": [
        "<a href=\"https://colab.research.google.com/github/vfcv/ETE-PDLPC/blob/main/Desafio_Estrutura_de_repeticao.ipynb\" target=\"_parent\"><img src=\"https://colab.research.google.com/assets/colab-badge.svg\" alt=\"Open In Colab\"/></a>"
      ]
    },
    {
      "cell_type": "code",
      "execution_count": null,
      "metadata": {
        "colab": {
          "base_uri": "https://localhost:8080/"
        },
        "id": "RSsUqQLmyruW",
        "outputId": "b6c7d43d-c3be-4634-886c-cde5d3b1fb28"
      },
      "outputs": [
        {
          "name": "stdout",
          "output_type": "stream",
          "text": [
            "Digite uma nota entre 0 e 10: 11\n",
            "Valor invalido!!\n",
            "Digite uma nota entre 0 e 10: -11\n",
            "Valor invalido!!\n",
            "Digite uma nota entre 0 e 10: -1\n",
            "Valor invalido!!\n",
            "Digite uma nota entre 0 e 10: 20\n",
            "Valor invalido!!\n",
            "Digite uma nota entre 0 e 10: 10\n"
          ]
        }
      ],
      "source": [
        "#ETE PORTO DIGITAL\n",
        "#DISCIPLINA LPC1\n",
        "#QUESTAO 01\n",
        "\n",
        "nota=int(input(\"Digite uma nota entre 0 e 10: \"))\n",
        "while nota<0 or nota>10:\n",
        "  print(\"Valor invalido!!\")\n",
        "  nota=float(input(\"Digite uma nota entre 0 e 10: \"))"
      ]
    },
    {
      "cell_type": "code",
      "source": [
        "#QUESTAO 2\n",
        "usuario=str(input(\"Digite nome do usuario: \")).upper()\n",
        "senha=str(input(f\"Digite uma senha para o usuario {usuario} \")).upper()\n",
        "\n",
        "while usuario==senha:\n",
        "  print(\"Senha invalida!\")\n",
        "  senha=str(input(\"Digite uma senha diferente do nome do usuario: \"))"
      ],
      "metadata": {
        "colab": {
          "base_uri": "https://localhost:8080/"
        },
        "id": "xVJjjtJpzk4L",
        "outputId": "9e64f1c2-7a9a-4102-a666-af42cd186d2c"
      },
      "execution_count": null,
      "outputs": [
        {
          "name": "stdout",
          "output_type": "stream",
          "text": [
            "Digite nome do usuario: caio\n",
            "Digite uma senha para o usuario CAIO Caio\n",
            "Senha invalida!\n",
            "Digite uma senha diferente do nome do usuario: nova senha\n"
          ]
        }
      ]
    },
    {
      "cell_type": "code",
      "source": [
        "#QUESTAO 3\n",
        "pop_A = 80000\n",
        "tx_A = 0.03\n",
        "pop_B = 200000\n",
        "tx_B = 0.015\n",
        "anos = 0\n",
        "\n",
        "while pop_A <= pop_B :\n",
        "  pop_A=pop_A*(1+tx_A)\n",
        "  pop_B=pop_B*(1+tx_B)\n",
        "  anos=anos+1\n",
        "\n",
        "print(anos)"
      ],
      "metadata": {
        "colab": {
          "base_uri": "https://localhost:8080/"
        },
        "id": "YuCHQ-690zqS",
        "outputId": "cb3ab7bd-6cd1-49af-b67d-2d641aec443b"
      },
      "execution_count": null,
      "outputs": [
        {
          "output_type": "stream",
          "name": "stdout",
          "text": [
            "63\n"
          ]
        }
      ]
    },
    {
      "cell_type": "code",
      "source": [
        "#Questao 4 - AINDA FALTA TERMINAR - NAO ESTA RODANDO 100%\n",
        "sim='s'\n",
        "while sim=='s' :\n",
        "  popA=float(input(\"Informe a população da cidade A \"))\n",
        "  popB=float(input(\"Informe a população da cidade B \"))\n",
        "  ano=0\n",
        "  taxa_crescimentoA=float(input(\"Informe a taxa de crescimento da população da cidade A \"))\n",
        "  taxa_crescimentoB=float(input(\"Informe a taxa de crescimento da população da cidade B \"))\n",
        "  while popA < popB:\n",
        "\t  popA+=round((popA*taxa_crescimentoA/100))\n",
        "\t  popB+=round((popB*taxa_crescimentoB/100))\n",
        "\t  ano=ano+1\n",
        "\n",
        "  print(\"Levará\",ano,\"anos para população da cidade A ser maior que a cidade B\")\n",
        "  print(\"PopulaçãoB-->\",popB,\"habitantes\")\n",
        "  print(\"P1opulaçãoA-->\",popA,\"habitantes\")\n",
        "  sim=str(input(\"Deseja repetir a operação? Digite (s/n): \"))"
      ],
      "metadata": {
        "colab": {
          "base_uri": "https://localhost:8080/"
        },
        "id": "OVCrc9Gw2ooy",
        "outputId": "e820022b-cef7-4055-b441-3fe70a2bb775"
      },
      "execution_count": null,
      "outputs": [
        {
          "name": "stdout",
          "output_type": "stream",
          "text": [
            "Informe a população da cidade A 100\n",
            "Informe a população da cidade B 1000\n",
            "Informe a taxa de crescimento da população da cidade A 30\n",
            "Informe a taxa de crescimento da população da cidade B 10\n",
            "Levará 14 anos para população da cidade A ser maior que a cidade B\n",
            "PopulaçãoB--> 3796.0 habitantes\n",
            "P1opulaçãoA--> 3948.0 habitantes\n",
            "Deseja repetir a operação? Digite (s/n): n\n"
          ]
        }
      ]
    },
    {
      "cell_type": "code",
      "source": [
        "#Questao 5\n",
        "# A função interna list é a representação do tipo lista. É a classe list , muito útil quando queremos converter outras sequências (iterables) em lista.\n",
        "for i in range (21):\n",
        "    print (i)\n",
        "print(list(range(1,21)))\n",
        "# outra alternativa: print(i+1,end=\" \")"
      ],
      "metadata": {
        "id": "fM1hNu4n2sHA",
        "colab": {
          "base_uri": "https://localhost:8080/"
        },
        "outputId": "c1ad8bbb-106a-498d-836c-1d2167f169dc"
      },
      "execution_count": null,
      "outputs": [
        {
          "output_type": "stream",
          "name": "stdout",
          "text": [
            "0\n",
            "1\n",
            "2\n",
            "3\n",
            "4\n",
            "5\n",
            "6\n",
            "7\n",
            "8\n",
            "9\n",
            "10\n",
            "11\n",
            "12\n",
            "13\n",
            "14\n",
            "15\n",
            "16\n",
            "17\n",
            "18\n",
            "19\n",
            "20\n",
            "[1, 2, 3, 4, 5, 6, 7, 8, 9, 10, 11, 12, 13, 14, 15, 16, 17, 18, 19, 20]\n"
          ]
        }
      ]
    },
    {
      "cell_type": "code",
      "source": [
        "#Questao 6\n"
      ],
      "metadata": {
        "id": "B5unZtNA2soo"
      },
      "execution_count": null,
      "outputs": []
    },
    {
      "cell_type": "code",
      "source": [
        "#Questao 7"
      ],
      "metadata": {
        "id": "i-XYxBEc2s9A"
      },
      "execution_count": null,
      "outputs": []
    },
    {
      "cell_type": "code",
      "source": [
        "#Questao 8"
      ],
      "metadata": {
        "id": "TqKou0-f2tLI"
      },
      "execution_count": null,
      "outputs": []
    },
    {
      "cell_type": "code",
      "source": [
        "#Questao 9"
      ],
      "metadata": {
        "id": "FxheHxhe2tZo"
      },
      "execution_count": null,
      "outputs": []
    },
    {
      "cell_type": "code",
      "source": [
        "#Questao 10"
      ],
      "metadata": {
        "id": "XDo8zsTp2tqI"
      },
      "execution_count": null,
      "outputs": []
    },
    {
      "cell_type": "code",
      "source": [
        "#Questao 11"
      ],
      "metadata": {
        "id": "hrFilwDj2u0Y"
      },
      "execution_count": null,
      "outputs": []
    },
    {
      "cell_type": "code",
      "source": [
        "#Questao 12"
      ],
      "metadata": {
        "id": "PN2JUvut2vCI"
      },
      "execution_count": null,
      "outputs": []
    },
    {
      "cell_type": "code",
      "source": [
        "#Questao 13"
      ],
      "metadata": {
        "id": "J6flJjag2vPY"
      },
      "execution_count": null,
      "outputs": []
    },
    {
      "cell_type": "code",
      "source": [
        "#Questao 14"
      ],
      "metadata": {
        "id": "xhoYyTkY2vcw"
      },
      "execution_count": null,
      "outputs": []
    }
  ]
}