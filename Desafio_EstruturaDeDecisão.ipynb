{
  "nbformat": 4,
  "nbformat_minor": 0,
  "metadata": {
    "colab": {
      "name": "Desafio-EstruturaDeDecisão.ipynb",
      "provenance": [],
      "authorship_tag": "ABX9TyMCotCu6V73a+H8vEllUXNz",
      "include_colab_link": true
    },
    "kernelspec": {
      "name": "python3",
      "display_name": "Python 3"
    },
    "language_info": {
      "name": "python"
    }
  },
  "cells": [
    {
      "cell_type": "markdown",
      "metadata": {
        "id": "view-in-github",
        "colab_type": "text"
      },
      "source": [
        "<a href=\"https://colab.research.google.com/github/vfcv/ETE-PDLPC/blob/main/Desafio_EstruturaDeDecis%C3%A3o.ipynb\" target=\"_parent\"><img src=\"https://colab.research.google.com/assets/colab-badge.svg\" alt=\"Open In Colab\"/></a>"
      ]
    },
    {
      "cell_type": "code",
      "execution_count": null,
      "metadata": {
        "colab": {
          "base_uri": "https://localhost:8080/"
        },
        "id": "0_MIe-ktBmRr",
        "outputId": "83a09f37-743c-4a23-9834-5c1605d70a18"
      },
      "outputs": [
        {
          "output_type": "stream",
          "name": "stdout",
          "text": [
            "Digite um numero: 12\n",
            "Digite um numero: 5\n",
            "O primeiro numero: 12 é maior que o segundo numero: 5\n"
          ]
        }
      ],
      "source": [
        "#ETE PD\n",
        "#Desafio [Estrutura de Decisão] Conectado com gitHub\n",
        "# Questão 01\n",
        "\n",
        "num1=int(input(\"Digite um numero: \"))\n",
        "num2=int(input(\"Digite um numero: \"))\n",
        "\n",
        "if num1>num2:\n",
        "  print(f\"O primeiro numero: {num1} é maior que o segundo numero: {num2}\")\n",
        "else:\n",
        "    print(f\"O segundo numero: {num2} é maior que o primeiro numero: {num1}\")"
      ]
    },
    {
      "cell_type": "code",
      "source": [
        "# Questão 02\n",
        "\n",
        "num1=float(input(\"Digite um numero positivo ou negativo: \"))\n",
        "\n",
        "if num1>=0:\n",
        "  print(f\"O numero: {num1} é positivo\")\n",
        "else:\n",
        "    print(f\"O nuemro é negativo\")"
      ],
      "metadata": {
        "colab": {
          "base_uri": "https://localhost:8080/"
        },
        "id": "ywpXwIh2Dium",
        "outputId": "2b5ec842-01f5-4e0d-e091-840ee1519704"
      },
      "execution_count": null,
      "outputs": [
        {
          "output_type": "stream",
          "name": "stdout",
          "text": [
            "Digite um numero positivo ou negativo: 566\n",
            "O numero: 566.0 é positivo\n"
          ]
        }
      ]
    },
    {
      "cell_type": "code",
      "source": [
        "# Questão 03\n",
        "\n",
        "letra=str(input(\"Digite a letra do sexo: \")).upper()\n",
        "\n",
        "if letra=='F':\n",
        "  print(f\"{letra} - Feminino\")\n",
        "elif letra=='M':\n",
        "  print(f\"{letra} - Masculino\")\n",
        "else:\n",
        "  print(f\"{letra} - Sexo Inválido\")"
      ],
      "metadata": {
        "colab": {
          "base_uri": "https://localhost:8080/"
        },
        "id": "YYNilR2eEOZW",
        "outputId": "0881549f-b19b-4ade-ddd6-a1ff60e9610a"
      },
      "execution_count": null,
      "outputs": [
        {
          "output_type": "stream",
          "name": "stdout",
          "text": [
            "Digite a letra do sexo: oas\n",
            "OAS - Sexo Inválido\n"
          ]
        }
      ]
    },
    {
      "cell_type": "code",
      "source": [
        "# Questão 04\n",
        "\n",
        "letra=str(input(\"Digite uma letra: \")).upper()\n",
        "\n",
        "if letra in ['A','E','I','O','U']:\n",
        "  print(f\"{letra} é uma vogal\")\n",
        "else:\n",
        "  print(f\"{letra} é uma consoante\")"
      ],
      "metadata": {
        "colab": {
          "base_uri": "https://localhost:8080/"
        },
        "id": "9XQ9XOFnykrZ",
        "outputId": "0ac0eaad-f4e9-4014-be61-3c12f1e38521"
      },
      "execution_count": null,
      "outputs": [
        {
          "output_type": "stream",
          "name": "stdout",
          "text": [
            "Digite uma letra: e\n",
            "E é uma vogal\n"
          ]
        }
      ]
    },
    {
      "cell_type": "code",
      "source": [
        "# Questão 05\n",
        "\n",
        "num1=float(input(\"Digite um numero: \"))\n",
        "num2=float(input(\"Digite um 2o numero: \"))\n",
        "num3=float(input(\"Digite um 3o numero: \"))\n",
        "\n",
        "if num1>=num2 and num1>=num3:\n",
        "  print(f\"{num1} é o maior numero\")\n",
        "elif num2>num1 and num2>num3:\n",
        "  print(f\"{num2} é o maior numero\")\n",
        "else:\n",
        "  print(f\"{num3} é o maior numero\")"
      ],
      "metadata": {
        "colab": {
          "base_uri": "https://localhost:8080/"
        },
        "id": "4inUI4c7zsWp",
        "outputId": "7645befa-729b-4ee5-8d4b-8b05ffcc2cbe"
      },
      "execution_count": null,
      "outputs": [
        {
          "output_type": "stream",
          "name": "stdout",
          "text": [
            "Digite um numero: 3\n",
            "Digite um 2o numero: 4\n",
            "Digite um 3o numero: 5\n",
            "5.0 é o maior numero\n"
          ]
        }
      ]
    },
    {
      "cell_type": "code",
      "source": [
        "# Questão 06\n",
        "\n",
        "num1=float(input(\"Digite um numero: \"))\n",
        "num2=float(input(\"Digite um 2o numero: \"))\n",
        "num3=float(input(\"Digite um 3o numero: \"))\n",
        "\n",
        "if num1>=num2 and num1>=num3:\n",
        "  print(f\"{num1} é o maior numero\")\n",
        "elif num2>num1 and num2>num3:\n",
        "  print(f\"{num2} é o maior numero\")\n",
        "else:\n",
        "  print(f\"{num3} é o maior numero\")\n",
        "\n",
        "if num1<=num2 and num1<=num3:\n",
        "  print(f\"{num1} é o menor numero\")\n",
        "elif num2<num1 and num2<num3:\n",
        "  print(f\"{num2} é o menor numero\")\n",
        "else:\n",
        "  print(f\"{num3} é o menor numero\")"
      ],
      "metadata": {
        "colab": {
          "base_uri": "https://localhost:8080/"
        },
        "id": "tkKAYRei04Jt",
        "outputId": "24242c0d-e0fd-4564-90b1-e8400f874f81"
      },
      "execution_count": null,
      "outputs": [
        {
          "output_type": "stream",
          "name": "stdout",
          "text": [
            "Digite um numero: 45\n",
            "Digite um 2o numero: 2\n",
            "Digite um 3o numero: 2\n",
            "45.0 é o maior numero\n",
            "2.0 é o menor numero\n"
          ]
        }
      ]
    },
    {
      "cell_type": "code",
      "source": [
        "# Questão 07\n",
        "\n",
        "num1=float(input(\"Digite o preço do produto 1: \"))\n",
        "num2=float(input(\"Digite o preço do produto 2: \"))\n",
        "num3=float(input(\"Digite o preço do produto 3: \"))\n",
        "\n",
        "if num1<=num2 and num1<=num3:\n",
        "  print(f\"Você deve comprar o produto 1 que custa {num1}\")\n",
        "elif num2<num1 and num2<num3:\n",
        "  print(f\"Você deve comprar o produto 2 que custa {num2}\")\n",
        "else:\n",
        "  print(f\"Você deve comprar o produto 3 que custa {num3}\")"
      ],
      "metadata": {
        "colab": {
          "base_uri": "https://localhost:8080/"
        },
        "id": "M18xwzso1xYd",
        "outputId": "418fc2b5-e26c-44fe-e300-fb60d6bd12e7"
      },
      "execution_count": null,
      "outputs": [
        {
          "output_type": "stream",
          "name": "stdout",
          "text": [
            "Digite o preço do produto 1: 45.00\n",
            "Digite o preço do produto 2: 56.98\n",
            "Digite o preço do produto 3: 54.60\n",
            "Você deve comprar o produto 1 que custa 45.0\n"
          ]
        }
      ]
    },
    {
      "cell_type": "code",
      "source": [
        "# Questão 08\n",
        "\n",
        "num1=float(input(\"Digite um numero: \"))\n",
        "num2=float(input(\"Digite um 2o numero: \"))\n",
        "num3=float(input(\"Digite um 3o numero: \"))\n",
        "\n",
        "ordem=[num1, num2, num3]\n",
        "ordem.sort(reverse=True)\n",
        "print(ordem)\n"
      ],
      "metadata": {
        "colab": {
          "base_uri": "https://localhost:8080/"
        },
        "id": "gIOgDFgd3Rfl",
        "outputId": "c5860c03-f8e9-479f-87e3-89e0b6df8208"
      },
      "execution_count": null,
      "outputs": [
        {
          "output_type": "stream",
          "name": "stdout",
          "text": [
            "Digite um numero: 3\n",
            "Digite um 2o numero: 5\n",
            "Digite um 3o numero: 6\n",
            "[6.0, 5.0, 3.0]\n"
          ]
        }
      ]
    },
    {
      "cell_type": "code",
      "source": [
        "#Questão 9\n",
        "\n",
        "turno=str(input(\"Digite o turno que você estuda: \\nM-Matutino\\nV-Vespertino\\nN-Noturno\\n\")).upper()\n",
        "\n",
        "if turno=='M':\n",
        "  print(\"Bom dia!!\")\n",
        "elif turno=='V':\n",
        "  print(\"Boa tarde!!\")\n",
        "elif turno=='N':\n",
        "  print(\"Boa noite!!\")\n",
        "else:\n",
        "  print('Turno inválido!')"
      ],
      "metadata": {
        "colab": {
          "base_uri": "https://localhost:8080/"
        },
        "id": "Ble1Lr9R4VjY",
        "outputId": "a98e0a40-fa3c-41a0-c178-5424e5ed4b1d"
      },
      "execution_count": null,
      "outputs": [
        {
          "output_type": "stream",
          "name": "stdout",
          "text": [
            "Digite o turno que você estuda: \n",
            "M-Matutino\n",
            "V-Vespertino\n",
            "N-Noturno\n",
            "y\n",
            "Turno inválido!\n"
          ]
        }
      ]
    },
    {
      "cell_type": "code",
      "source": [
        "#Questão 10\n",
        "#Para determinar se um ano é bissexto, execute estas etapas:\n",
        "#Se o ano for uniformemente divisível por 4, vá para a etapa 2. Caso contrário, vá para a etapa 5.\n",
        "#Se o ano for uniformemente divisível por 100, vá para a etapa 3. Caso contrário, vá para a etapa 4.\n",
        "#Se o ano for uniformemente divisível por 400, vá para a etapa 4. Caso contrário, vá para a etapa 5.\n",
        "#O ano é bissexto (tem 366 dias).\n",
        "#O ano não é um ano bissexto (tem 365 dias).\n",
        "\n",
        "ano=int(input(\"Digite um ano: \"))\n",
        "if (ano % 4 == 0 and ano % 100 != 0) or ano % 400 == 0:\n",
        " print(f\"O ano {ano} é bissexto\")\n",
        "else:\n",
        "  print(f'O ano {ano} nao é bissexto')"
      ],
      "metadata": {
        "colab": {
          "base_uri": "https://localhost:8080/"
        },
        "id": "nvUPqiVr6Cm3",
        "outputId": "6a2206c1-fa68-4cab-de43-543dadf7cebd"
      },
      "execution_count": null,
      "outputs": [
        {
          "output_type": "stream",
          "name": "stdout",
          "text": [
            "Digite um ano: 2400\n",
            "O ano 2400 é bissexto\n"
          ]
        }
      ]
    },
    {
      "cell_type": "code",
      "source": [
        "#Questão 11\n",
        "\n",
        "data = str(input(\"Digite uma data com o seguinte formato dd/mm/aaaa: \"))\n",
        "dia= int(data[0:2])\n",
        "mes= int(data[3:5])\n",
        "ano= int(data[6:10])\n",
        "\n",
        "validade=\"true\"\n",
        "\n",
        "if (ano%4 == 0 and ano%100!= 0) or ano%400 == 0:\n",
        "        bissexto = \"sim\"\n",
        "else:\n",
        "        bissexto = \"nao\"\n",
        "\n",
        "if mes < 1 or mes > 12:\n",
        "        validade = \"false\"\n",
        "\n",
        "if dia > 31 or ((mes == 4 or mes == 6 or mes == 9 or mes == 11) and dia > 30):\n",
        "        validade = \"false\"\n",
        "\n",
        "if (mes == 2 and bissexto == \"nao\" and dia > 28) or ( mes == 2 and bissexto == \"sim\" and dia > 29):\n",
        "        validade = \"false\"\n",
        "\n",
        "if validade == \"true\":\n",
        "    print(\"data valida\")\n",
        "else:\n",
        "    print(\"data invalida\")"
      ],
      "metadata": {
        "colab": {
          "base_uri": "https://localhost:8080/"
        },
        "id": "y9cG11jg8Qj8",
        "outputId": "b88c6dfa-5ad4-4770-cb22-6fca2f231c6b"
      },
      "execution_count": 1,
      "outputs": [
        {
          "output_type": "stream",
          "name": "stdout",
          "text": [
            "Digite uma data com o seguinte formato dd/mm/aaaa: 01/01/1900\n",
            "data valida\n"
          ]
        }
      ]
    },
    {
      "cell_type": "code",
      "source": [
        "#Questão 12\n",
        "\n",
        "r1=str(input(\"Telefonou para a vitima?(sim/s ou não/n) \\n\"))\n",
        "r2=str(input(\"Esteve no local do crime?(sim/s ou não/n) \\n \"))\n",
        "r3=str(input(\"Mora perto da vitima?(sim/s ou não/n) \\n \"))\n",
        "r4=str(input(\"Devia para a vitima?(sim/s ou não/n) \\n \"))\n",
        "r5=str(input(\"Já trabalhou com a vítima?(sim/s ou não/n) \\n \"))\n",
        "\n",
        "i=0\n",
        "if r1=='sim' or r1=='s':\n",
        "  i=i+1\n",
        "if r2=='sim' or r2=='s':\n",
        "  i=i+1\n",
        "if r3=='sim' or r3=='s':\n",
        "  i=i+1\n",
        "if r4=='sim' or r4=='s':\n",
        "  i=i+1\n",
        "if r5=='sim' or r5=='s':\n",
        "  i=i+1\n",
        "\n",
        "if i==5:\n",
        "  print(\"\\nAssassino\")\n",
        "elif i==4 or i==3:\n",
        "  print(\"\\nCúmplice\")\n",
        "elif i==2:\n",
        "  print(\"\\nSuspeito\")\n",
        "else:\n",
        "  print(\"Inocente\")"
      ],
      "metadata": {
        "colab": {
          "base_uri": "https://localhost:8080/"
        },
        "id": "HwqOLiO0xwhK",
        "outputId": "9cf12080-a3d8-4653-d37f-8297b581aebb"
      },
      "execution_count": 10,
      "outputs": [
        {
          "output_type": "stream",
          "name": "stdout",
          "text": [
            "Telefonou para a vitima?(sim/s ou não/n) \n",
            "n\n",
            "Esteve no local do crime?(sim/s ou não/n) \n",
            " n\n",
            "Mora perto da vitima?(sim/s ou não/n) \n",
            " n\n",
            "Devia para a vitima?(sim/s ou não/n) \n",
            " s\n",
            "Já trabalhou com a vítima?(sim/s ou não/n) \n",
            " s\n",
            "\n",
            "Suspeito\n"
          ]
        }
      ]
    }
  ]
}