{
  "nbformat": 4,
  "nbformat_minor": 0,
  "metadata": {
    "colab": {
      "name": "Desafio_Listas_no_Form3ulário.ipynb",
      "provenance": [],
      "collapsed_sections": [],
      "authorship_tag": "ABX9TyNa1FfW38EW0YnD/BdZBKwB",
      "include_colab_link": true
    },
    "kernelspec": {
      "name": "python3",
      "display_name": "Python 3"
    },
    "language_info": {
      "name": "python"
    }
  },
  "cells": [
    {
      "cell_type": "markdown",
      "metadata": {
        "id": "view-in-github",
        "colab_type": "text"
      },
      "source": [
        "<a href=\"https://colab.research.google.com/github/vfcv/ETE-PDLPC/blob/main/Desafio_Listas_no_Form3ul%C3%A1rio.ipynb\" target=\"_parent\"><img src=\"https://colab.research.google.com/assets/colab-badge.svg\" alt=\"Open In Colab\"/></a>"
      ]
    },
    {
      "cell_type": "code",
      "execution_count": null,
      "metadata": {
        "colab": {
          "base_uri": "https://localhost:8080/"
        },
        "id": "bB0LO-plFsMN",
        "outputId": "410137c8-a241-41eb-d8ae-ec990c6a5ea8"
      },
      "outputs": [
        {
          "output_type": "stream",
          "name": "stdout",
          "text": [
            "[1, 2, 3, 4, 5]\n"
          ]
        }
      ],
      "source": [
        "#ETE PORTO DIGITAL\n",
        "#DISCIPLINA LPC1\n",
        "#PROF CLOVES\n",
        "#ALUNO VICTOR CAMARA\n",
        "\n",
        "#Q1. Faça um Programa que leia um vetor de 5 números inteiros e mostre-os.\n",
        "vet = [1, 2, 3, 4, 5]\n",
        "print(vet)"
      ]
    },
    {
      "cell_type": "code",
      "source": [
        "#Q2. Faça um Programa que leia um vetor de 10 números reais e mostre-os na ordem inversa.\n",
        "vet=[]\n",
        "for a in range (0,9):\n",
        "  vetor = int(input(\"Digite um numero: \"))\n",
        "  vet.append(vetor)\n",
        "\n",
        "print(\"Ordem inversa\")\n",
        "vet.reverse()\n",
        "print(vet)"
      ],
      "metadata": {
        "id": "vFJjR1aZGQXw",
        "colab": {
          "base_uri": "https://localhost:8080/"
        },
        "outputId": "3b3092a4-d160-4e72-daa4-9aa221784748"
      },
      "execution_count": null,
      "outputs": [
        {
          "output_type": "stream",
          "name": "stdout",
          "text": [
            "Digite um numero: 2\n",
            "Digite um numero: 6\n",
            "Digite um numero: 1\n",
            "Digite um numero: 3\n",
            "Ordem inversa\n",
            "[3, 1, 6, 2]\n"
          ]
        }
      ]
    },
    {
      "cell_type": "code",
      "source": [
        "#Q3. Faça um Programa que leia 4 notas, mostre as notas e a média na tela.\n",
        "lista_notas=[]\n",
        "i=0\n",
        "for i in range (0,4):\n",
        "  notas=float(input(\"Digite uma nota: \"))\n",
        "  lista_notas.append(notas)\n",
        "media=sum(lista_notas)/len(lista_notas)\n",
        "print(media)"
      ],
      "metadata": {
        "id": "uSwn5re7F8Nx",
        "colab": {
          "base_uri": "https://localhost:8080/"
        },
        "outputId": "60ba49dc-ab3c-48fa-939b-2681daa28a7f"
      },
      "execution_count": null,
      "outputs": [
        {
          "output_type": "stream",
          "name": "stdout",
          "text": [
            "Digite uma nota: 2\n",
            "Digite uma nota: 10\n",
            "Digite uma nota: 2\n",
            "4.666666666666667\n"
          ]
        }
      ]
    },
    {
      "cell_type": "code",
      "source": [
        "#Q4. Faça um Programa que leia um vetor de 10 caracteres, e diga quantas consoantes foram lidas. Imprima as consoantes.\n",
        "lista_letras=[]\n",
        "lista_vogais=['a', 'e', 'i', 'o', 'u']\n",
        "vogais=0\n",
        "consoantes=0\n",
        "for i in range (0,10):\n",
        "  letras=str(input(\"Digite um caractere: \"))\n",
        "  lista_letras.append(letras)\n",
        "  if (letras in lista_vogais):\n",
        "    vogais=vogais+1\n",
        "  else:\n",
        "    consoantes=consoantes+1\n",
        "print(f\"O numero de consoantes é igual a: \",consoantes)"
      ],
      "metadata": {
        "id": "Ooih3nK5GYZG",
        "colab": {
          "base_uri": "https://localhost:8080/"
        },
        "outputId": "21ccc9e0-2dba-4246-9b56-ed81327d0f73"
      },
      "execution_count": null,
      "outputs": [
        {
          "output_type": "stream",
          "name": "stdout",
          "text": [
            "Digite um caractere: a\n",
            "Digite um caractere: e\n",
            "Digite um caractere: r\n",
            "Digite um caractere: e\n",
            "O numero de consoantes é igual a:  1\n"
          ]
        }
      ]
    },
    {
      "cell_type": "code",
      "source": [
        "#Q5. Faça um Programa que leia 20 números inteiros e armazene-os num vetor. Armazene os números pares no vetor PAR e os números IMPARES no vetor impar. Imprima os três vetores.\n",
        "lista_num=[]\n",
        "par=[]\n",
        "impar=[]\n",
        "for i in range (0,20):\n",
        "  num=int(input(\"Digite um numero: \"))  \n",
        "  lista_num.append(num)\n",
        "  if num % 2 == 0:    \n",
        "    par.append(num)\n",
        "  else:\n",
        "    impar.append(num)\n",
        "print(f\"Vetor de numeros: \",lista_num)\n",
        "print(f\"Vetor par: \",par)\n",
        "print(f\"Vetor impar: \",impar)"
      ],
      "metadata": {
        "id": "On_i57fxGdBW",
        "colab": {
          "base_uri": "https://localhost:8080/"
        },
        "outputId": "00c5fc17-ebea-4935-f951-0f1ce0c65c89"
      },
      "execution_count": null,
      "outputs": [
        {
          "output_type": "stream",
          "name": "stdout",
          "text": [
            "Digite um numero: 1\n",
            "Digite um numero: 2\n",
            "Digite um numero: 3\n",
            "Vetor de numeros:  [1, 2, 3]\n",
            "Vetor par:  [2]\n",
            "Vetor impar:  [1, 3]\n"
          ]
        }
      ]
    },
    {
      "cell_type": "code",
      "source": [
        "#Q6. Faça um Programa que peça quatro notas de 10 alunos, calcule e armazene num vetor a média de cada aluno, imprima o número de alunos com média maior ou igual a 7.0.\n",
        "import numpy as np\n",
        "lista_notas=[]\n",
        "\n",
        "for i in range (10):\n",
        "  linha = [] \n",
        "  for j in range (4):\n",
        "    nota=float(input(\"Digite uma nota: \"))  \n",
        "    linha.append(nota)\n",
        "  lista_notas.append(linha)\n",
        "print(lista_notas)"
      ],
      "metadata": {
        "id": "qkdKtUY1GioW",
        "colab": {
          "base_uri": "https://localhost:8080/"
        },
        "outputId": "0c17aaad-054c-41f5-98e7-1828ef0de518"
      },
      "execution_count": null,
      "outputs": [
        {
          "output_type": "stream",
          "name": "stdout",
          "text": [
            "Digite uma nota: 1\n",
            "Digite uma nota: 2\n",
            "Digite uma nota: 3\n",
            "Digite uma nota: 4\n",
            "Digite uma nota: 5\n",
            "Digite uma nota: 6\n",
            "Digite uma nota: 7\n",
            "Digite uma nota: 8\n",
            "Digite uma nota: 9\n",
            "Digite uma nota: 10\n",
            "Digite uma nota: 11\n",
            "Digite uma nota: 12\n",
            "[[1.0, 2.0, 3.0, 4.0], [5.0, 6.0, 7.0, 8.0], [9.0, 10.0, 11.0, 12.0]]\n"
          ]
        }
      ]
    },
    {
      "cell_type": "code",
      "source": [
        "#Q7. Faça um Programa que leia um vetor de 5 números inteiros, mostre a soma, a multiplicação e os números.\n",
        "lista=[]\n",
        "\n",
        "for i in range (5):\n",
        "  nota=int(input(\"Digite um numero: \")) \n",
        "  lista.append(nota)\n",
        "print(\"Os elementos digiados foram: \",lista)\n",
        "soma=sum(lista)\n",
        "print(\"A soma dos elementos do array é igual a: \",soma)\n",
        "mult=1\n",
        "for i in range (5):\n",
        "  mult=lista[i]*mult\n",
        "print(\"A multiplicação dos elementos do array é igual a: \",mult)\n"
      ],
      "metadata": {
        "id": "McHYPnePGmp-",
        "colab": {
          "base_uri": "https://localhost:8080/"
        },
        "outputId": "b8cdec30-fc58-4448-f30d-5e3d18baba81"
      },
      "execution_count": null,
      "outputs": [
        {
          "output_type": "stream",
          "name": "stdout",
          "text": [
            "Digite um numero: 1\n",
            "Digite um numero: 2\n",
            "Digite um numero: 3\n",
            "Digite um numero: 4\n",
            "Digite um numero: 5\n",
            "Os elementos digiados foram:  [1, 2, 3, 4, 5]\n",
            "A soma dos elementos do array é igual a:  15\n",
            "A multiplicação dos elementos do array é igual a:  120\n"
          ]
        }
      ]
    },
    {
      "cell_type": "code",
      "source": [
        "#Q8. Faça um Programa que peça a idade e a altura de 5 pessoas, armazene cada informação no seu respectivo vetor. Imprima a idade e a altura na ordem inversa a ordem lida.\n",
        "idade=[]\n",
        "altura=[]\n",
        "for a in range (5):\n",
        "  anos = int(input(\"Digite uma idade: \"))\n",
        "  idade.append(anos)\n",
        "  alt = float(input(\"Digite uma altura: \"))\n",
        "  altura.append(alt)\n",
        "\n",
        "print(\"Ordem inversa\")\n",
        "idade.reverse()\n",
        "altura.reverse()\n",
        "print(\"Vetor idade na ordem inversa: \",idade)\n",
        "print(\"Vetor altura na ordem inversa: \",altura)"
      ],
      "metadata": {
        "id": "r-Y1KjK3Gp_2",
        "colab": {
          "base_uri": "https://localhost:8080/"
        },
        "outputId": "cd67628f-fd76-4bf4-a500-8e348093f4c2"
      },
      "execution_count": null,
      "outputs": [
        {
          "output_type": "stream",
          "name": "stdout",
          "text": [
            "Digite uma idade: 1\n",
            "Digite uma altura: 1.1\n",
            "Digite uma idade: 2\n",
            "Digite uma altura: 2.2\n",
            "Digite uma idade: 3\n",
            "Digite uma altura: 3.3\n",
            "Digite uma idade: 4\n",
            "Digite uma altura: 4.4\n",
            "Digite uma idade: 5\n",
            "Digite uma altura: 5.5\n",
            "Ordem inversa\n",
            "Vetor idade na ordem inversa:  [5, 4, 3, 2, 1]\n",
            "Vetor altura na ordem inversa:  [5.5, 4.4, 3.3, 2.2, 1.1]\n"
          ]
        }
      ]
    },
    {
      "cell_type": "code",
      "source": [
        "#Q9. Faça um Programa que leia um vetor A com 10 números inteiros, calcule e mostre a soma dos quadrados dos elementos do vetor.\n",
        "A=[]\n",
        "soma_quadrado=1\n",
        "for a in range (10):\n",
        "  num = int(input(\"Digite um numero: \"))\n",
        "  A.append(num)\n",
        "  soma_quadrado=num*num*soma_quadrado\n",
        "print(\"A soma do quadrado dos elementos do vetor A é igual a: \", soma_quadrado)"
      ],
      "metadata": {
        "id": "5nGxCEf_Gsve",
        "colab": {
          "base_uri": "https://localhost:8080/"
        },
        "outputId": "d5aa910f-7106-4def-a134-73cdc5da76e7"
      },
      "execution_count": null,
      "outputs": [
        {
          "output_type": "stream",
          "name": "stdout",
          "text": [
            "Digite um numero: 1\n",
            "Digite um numero: 2\n",
            "Digite um numero: 3\n",
            "Digite um numero: 4\n",
            "Digite um numero: 5\n",
            "Digite um numero: 6\n",
            "Digite um numero: 7\n",
            "Digite um numero: 8\n",
            "Digite um numero: 9\n",
            "Digite um numero: 10\n",
            "A soma do quadrado dos elementos do vetor A é igual a:  13168189440000\n"
          ]
        }
      ]
    },
    {
      "cell_type": "code",
      "source": [
        "#Q10. Faça um Programa que leia dois vetores com 10 elementos cada. Gere um terceiro vetor de 20 elementos, cujos valores deverão ser compostos pelos elementos intercalados dos dois outros vetores\n",
        "idade=[]\n",
        "altura=[]\n",
        "pessoa=[]\n",
        "for a in range (5):\n",
        "  anos = int(input(\"Digite uma idade: \"))\n",
        "  idade.append(anos)\n",
        "  pessoa.append(anos)\n",
        "  alt = float(input(\"Digite uma altura: \"))\n",
        "  altura.append(alt)\n",
        "  pessoa.append(alt)\n",
        "\n",
        "print(idade)\n",
        "print(altura)\n",
        "print(pessoa)"
      ],
      "metadata": {
        "id": "Z9LL1L6nGwc2",
        "colab": {
          "base_uri": "https://localhost:8080/"
        },
        "outputId": "7a477161-b90d-4d7d-fe4a-d1b9fcf307b1"
      },
      "execution_count": 4,
      "outputs": [
        {
          "output_type": "stream",
          "name": "stdout",
          "text": [
            "Digite uma idade: 1\n",
            "Digite uma altura: 1.1\n",
            "Digite uma idade: 2\n",
            "Digite uma altura: 2.2\n",
            "Digite uma idade: 3\n",
            "Digite uma altura: 3.3\n",
            "Digite uma idade: 4\n",
            "Digite uma altura: 4.4\n",
            "Digite uma idade: 5\n",
            "Digite uma altura: 5.5\n",
            "[1, 2, 3, 4, 5]\n",
            "[1.1, 2.2, 3.3, 4.4, 5.5]\n",
            "[1, 1.1, 2, 2.2, 3, 3.3, 4, 4.4, 5, 5.5]\n"
          ]
        }
      ]
    }
  ]
}