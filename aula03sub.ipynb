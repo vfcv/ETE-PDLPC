{
  "nbformat": 4,
  "nbformat_minor": 0,
  "metadata": {
    "colab": {
      "name": "aula03sub.ipynb",
      "provenance": [],
      "authorship_tag": "ABX9TyM1gZDx4zNkYVq4uXA+MmdT",
      "include_colab_link": true
    },
    "kernelspec": {
      "name": "python3",
      "display_name": "Python 3"
    },
    "language_info": {
      "name": "python"
    }
  },
  "cells": [
    {
      "cell_type": "markdown",
      "metadata": {
        "id": "view-in-github",
        "colab_type": "text"
      },
      "source": [
        "<a href=\"https://colab.research.google.com/github/vfcv/ETE-PDLPC/blob/main/aula03sub.ipynb\" target=\"_parent\"><img src=\"https://colab.research.google.com/assets/colab-badge.svg\" alt=\"Open In Colab\"/></a>"
      ]
    },
    {
      "cell_type": "code",
      "execution_count": 1,
      "metadata": {
        "colab": {
          "base_uri": "https://localhost:8080/"
        },
        "id": "mEKXl2FWB5Ld",
        "outputId": "40538f16-3acb-4136-ff77-78b318d13a00"
      },
      "outputs": [
        {
          "output_type": "stream",
          "name": "stdout",
          "text": [
            "Ola, ETE PORTO DIGITAL\n"
          ]
        }
      ],
      "source": [
        "# ETE PORTO DIGITAL\n",
        "# DISCIPLINA: LPC1\n",
        "# PROFESSOR: CLOVIS\n",
        "# ESTUDANTE: VICTOR\n",
        "\n",
        "print ('Ola, ETE PORTO DIGITAL')"
      ]
    }
  ]
}